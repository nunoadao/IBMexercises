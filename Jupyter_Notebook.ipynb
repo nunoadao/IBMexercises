{
 "cells": [
  {
   "cell_type": "markdown",
   "metadata": {},
   "source": [
    "<center>\n",
    "    <img src=\"https://cf-courses-data.s3.us.cloud-object-storage.appdomain.cloud/IBMDeveloperSkillsNetwork-DS0105EN-SkillsNetwork/labs/Module2/images/SN_web_lightmode.png\" width=\"300\" alt=\"cognitiveclass.ai logo\">\n",
    "</center>\n"
   ]
  },
  {
   "cell_type": "markdown",
   "metadata": {},
   "source": [
    "# My Notebook"
   ]
  },
  {
   "cell_type": "markdown",
   "metadata": {},
   "source": [
    "#### Add your code below following the instructions given in the course\n"
   ]
  },
  {
   "cell_type": "markdown",
   "metadata": {},
   "source": [
    "## Introduction \n",
    "\n",
    "Welcome to My Notebook!"
   ]
  },
  {
   "cell_type": "markdown",
   "metadata": {},
   "source": [
    "## Data Science Languages \n",
    "\n",
    "\n",
    "1. **Python:**\n",
    "   - Widely used for data analysis, machine learning, and scientific computing. Popular libraries include NumPy, Pandas, Matplotlib, and Scikit-Learn.\n",
    "\n",
    "2. **R:**\n",
    "   - Specifically designed for statistical computing and data analysis. R provides a rich ecosystem of packages for statistical modeling and visualization.\n",
    "\n",
    "3. **SQL:**\n",
    "   - Essential for working with relational databases. SQL is used for querying, updating, and managing data stored in databases.\n",
    "\n",
    "4. **Julia:**\n",
    "   - Known for its high-performance numerical and scientific computing capabilities. Julia is designed for speed and efficiency.\n",
    "\n",
    "5. **Scala:**\n",
    "   - Often used in big data processing frameworks such as Apache Spark. Scala is a general-purpose programming language with functional programming features.\n",
    "\n",
    "6. **Java:**\n",
    "   - Widely adopted for building large-scale enterprise applications. In the context of data science, Java is used in frameworks like Apache Hadoop.\n",
    "\n",
    "\n"
   ]
  },
  {
   "cell_type": "markdown",
   "metadata": {},
   "source": [
    "## Data Science Libraries\n",
    "\n",
    "1. **Python Libraries:**\n",
    "   - **NumPy:** A library for numerical operations and efficient array manipulations.\n",
    "   - **Pandas:** Provides data structures like DataFrames for data manipulation and analysis.\n",
    "   - **Matplotlib:** A versatile plotting library for creating static, animated, and interactive visualizations.\n",
    "   - **Seaborn:** Built on top of Matplotlib, Seaborn adds aesthetic enhancements for statistical data visualization.\n",
    "   - **Scikit-Learn:** A comprehensive machine learning library with tools for classification, regression, clustering, and more.\n",
    "   - **TensorFlow and PyTorch:** Popular deep learning libraries for building and training neural networks.\n",
    "\n",
    "2. **R Libraries:**\n",
    "   - **ggplot2:** A powerful plotting system for creating a wide variety of graphics in R.\n",
    "   - **dplyr and tidyr:** Essential libraries for data manipulation and tidying data.\n",
    "   - **caret:** A comprehensive toolkit for building and evaluating predictive models.\n",
    "   - **e1071:** Implements functions for support vector machines and other statistical learning algorithms.\n",
    "\n",
    "3. **SQL Libraries:**\n",
    "   - **SQLAlchemy:** A SQL toolkit and Object-Relational Mapping (ORM) library for Python.\n",
    "   - **pandasql:** Allows querying Pandas DataFrames using SQL syntax.\n",
    "\n",
    "4. **Other Libraries:**\n",
    "   - **Apache Spark:** A fast and general-purpose cluster computing system, often used for big data processing.\n",
    "   - **OpenCV:** A library for computer vision tasks, such as image and video analysis.\n",
    "\n"
   ]
  },
  {
   "cell_type": "markdown",
   "metadata": {},
   "source": [
    "## Data Science Tools\n",
    "\n",
    "| Category         | Tool                 | Description                                               |\n",
    "|------------------|----------------------|-----------------------------------------------------------|\n",
    "| **Programming Languages** | Python          | General-purpose language widely used for data science.    |\n",
    "|                   | R                  | Statistical computing and graphics.                        |\n",
    "|                   | Julia              | High-performance language for numerical computing.        |\n",
    "|                   | SQL                | Query language for relational databases.                  |\n",
    "|                   | Scala              | Used in big data processing frameworks like Apache Spark. |\n",
    "|                   | Java               | Commonly used in big data processing and enterprise apps. |\n",
    "| **Data Manipulation and Analysis** | NumPy       | Library for numerical operations and array manipulations. |\n",
    "|                   | Pandas             | Data structures and functions for efficient data analysis. |\n",
    "| **Visualization** | Matplotlib         | Versatile plotting library for creating visualizations.    |\n",
    "|                   | Seaborn            | Enhances Matplotlib for statistical data visualization.   |\n",
    "|                   | ggplot2 (R)        | Powerful plotting system for creating graphics in R.        |\n",
    "| **Machine Learning** | Scikit-Learn    | Comprehensive machine learning library for Python.         |\n",
    "|                   | TensorFlow         | Open-source deep learning library developed by Google.     |\n",
    "|                   | PyTorch            | Deep learning library with dynamic computational graphs.   |\n",
    "|                   | caret (R)          | Toolkit for building and evaluating predictive models.     |\n",
    "| **Database and SQL** | SQLAlchemy       | SQL toolkit and Object-Relational Mapping (ORM) for Python. |\n",
    "|                   | pandasql          | Allows querying Pandas DataFrames using SQL syntax.         |\n",
    "| **Big Data Processing** | Apache Spark   | Fast and general-purpose cluster computing system.         |\n",
    "| **Computer Vision** | OpenCV             | Library for computer vision tasks, image, and video analysis. |\n",
    "\n"
   ]
  },
  {
   "cell_type": "markdown",
   "metadata": {},
   "source": [
    "## Arithmetic Expression Examples\n",
    "\n",
    "```python\n",
    "# Python Example\n",
    "a = 5\n",
    "b = 3\n",
    "sum_result = a + b\n",
    "difference_result = a - b\n",
    "product_result = a * b\n",
    "quotient_result = a / b\n",
    "\n",
    "print(f\"Sum: {sum_result}\")\n",
    "print(f\"Difference: {difference_result}\")\n",
    "print(f\"Product: {product_result}\")\n",
    "print(f\"Quotient: {quotient_result}\")\n"
   ]
  },
  {
   "cell_type": "code",
   "execution_count": 1,
   "metadata": {
    "tags": []
   },
   "outputs": [
    {
     "name": "stdout",
     "output_type": "stream",
     "text": [
      "Multiplication Result: 21\n",
      "Addition Result: 10\n"
     ]
    }
   ],
   "source": [
    "# Multiply and Add Numbers\n",
    "a = 7\n",
    "b = 3\n",
    "\n",
    "# Multiply\n",
    "product_result = a * b\n",
    "\n",
    "# Add\n",
    "sum_result = a + b\n",
    "\n",
    "# Print Results\n",
    "print(f\"Multiplication Result: {product_result}\")\n",
    "print(f\"Addition Result: {sum_result}\")\n"
   ]
  },
  {
   "cell_type": "code",
   "execution_count": 2,
   "metadata": {
    "tags": []
   },
   "outputs": [
    {
     "name": "stdout",
     "output_type": "stream",
     "text": [
      "120 minutes is equal to 2.0 hours.\n"
     ]
    }
   ],
   "source": [
    "# Convert Minutes to Hours\n",
    "minutes = 120\n",
    "\n",
    "# Conversion\n",
    "hours = minutes / 60\n",
    "\n",
    "# Print Result\n",
    "print(f\"{minutes} minutes is equal to {hours} hours.\")\n"
   ]
  },
  {
   "cell_type": "markdown",
   "metadata": {
    "tags": []
   },
   "source": [
    "## Objectives\n",
    "\n",
    "1. **Explore Arithmetic Expressions:**\n",
    "   - Understand and experiment with basic arithmetic operations in different programming languages, including Python, R, and Julia.\n",
    "\n",
    "2. **Demonstrate Code Examples:**\n",
    "   - Provide code examples for multiplying and adding numbers, as well as converting minutes to hours.\n",
    "\n",
    "3. **Highlight Data Science Languages:**\n",
    "   - Introduce and discuss popular programming languages used in the field of data science, including Python, R, and others.\n",
    "\n",
    "4. **List Data Science Libraries:**\n",
    "   - Showcase key libraries commonly employed in data science projects for tasks such as data manipulation, visualization, and machine learning.\n",
    "\n",
    "5. **Introduce Data Science Tools:**\n",
    "   - Create a table listing various tools used in data science, including programming languages, libraries, and platforms.\n",
    "\n",
    "6. **Facilitate Learning:**\n",
    "   - Encourage readers to run and modify code cells to deepen their understanding of the concepts presented.\n"
   ]
  },
  {
   "cell_type": "markdown",
   "metadata": {},
   "source": [
    "## Author\n",
    "\n",
    "This notebook was created by Nuno Adão\n"
   ]
  },
  {
   "cell_type": "code",
   "execution_count": null,
   "metadata": {},
   "outputs": [],
   "source": []
  }
 ],
 "metadata": {
  "kernelspec": {
   "display_name": "Python",
   "language": "python",
   "name": "conda-env-python-py"
  },
  "language_info": {
   "codemirror_mode": {
    "name": "ipython",
    "version": 3
   },
   "file_extension": ".py",
   "mimetype": "text/x-python",
   "name": "python",
   "nbconvert_exporter": "python",
   "pygments_lexer": "ipython3",
   "version": "3.7.12"
  }
 },
 "nbformat": 4,
 "nbformat_minor": 4
}
